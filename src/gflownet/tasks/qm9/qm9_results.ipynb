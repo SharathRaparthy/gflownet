{
 "cells": [
  {
   "cell_type": "code",
   "execution_count": 2,
   "id": "01d9f2b0-e1e7-4ab3-932d-b4f01afa412d",
   "metadata": {},
   "outputs": [
    {
     "name": "stdout",
     "output_type": "stream",
     "text": [
      "Defaulting to user installation because normal site-packages is not writeable\n",
      "Collecting seaborn\n",
      "  Downloading seaborn-0.11.2-py3-none-any.whl (292 kB)\n",
      "\u001b[K     |████████████████████████████████| 292 kB 1.7 MB/s eta 0:00:01\n",
      "\u001b[?25hRequirement already satisfied: scipy>=1.0 in /opt/conda/lib/python3.8/site-packages (from seaborn) (1.8.0)\n",
      "Requirement already satisfied: numpy>=1.15 in /opt/conda/lib/python3.8/site-packages (from seaborn) (1.22.3)\n",
      "Requirement already satisfied: matplotlib>=2.2 in /opt/conda/lib/python3.8/site-packages (from seaborn) (3.5.1)\n",
      "Requirement already satisfied: pandas>=0.23 in /opt/conda/lib/python3.8/site-packages (from seaborn) (1.4.1)\n",
      "Requirement already satisfied: kiwisolver>=1.0.1 in /opt/conda/lib/python3.8/site-packages (from matplotlib>=2.2->seaborn) (1.4.0)\n",
      "Requirement already satisfied: pillow>=6.2.0 in /opt/conda/lib/python3.8/site-packages (from matplotlib>=2.2->seaborn) (9.0.1)\n",
      "Requirement already satisfied: cycler>=0.10 in /opt/conda/lib/python3.8/site-packages (from matplotlib>=2.2->seaborn) (0.11.0)\n",
      "Requirement already satisfied: fonttools>=4.22.0 in /opt/conda/lib/python3.8/site-packages (from matplotlib>=2.2->seaborn) (4.31.2)\n",
      "Requirement already satisfied: pyparsing>=2.2.1 in /opt/conda/lib/python3.8/site-packages (from matplotlib>=2.2->seaborn) (3.0.7)\n",
      "Requirement already satisfied: python-dateutil>=2.7 in /opt/conda/lib/python3.8/site-packages (from matplotlib>=2.2->seaborn) (2.8.2)\n",
      "Requirement already satisfied: packaging>=20.0 in /opt/conda/lib/python3.8/site-packages (from matplotlib>=2.2->seaborn) (21.3)\n",
      "Requirement already satisfied: pytz>=2020.1 in /opt/conda/lib/python3.8/site-packages (from pandas>=0.23->seaborn) (2022.1)\n",
      "Requirement already satisfied: six>=1.5 in /opt/conda/lib/python3.8/site-packages (from python-dateutil>=2.7->matplotlib>=2.2->seaborn) (1.16.0)\n",
      "Installing collected packages: seaborn\n",
      "Successfully installed seaborn-0.11.2\n"
     ]
    }
   ],
   "source": [
    "!pip install seaborn\n",
    "import os\n",
    "import numpy as np\n",
    "import pandas as pd\n",
    "import matplotlib.pyplot as plt\n",
    "import seaborn as sns\n"
   ]
  },
  {
   "cell_type": "code",
   "execution_count": 3,
   "id": "0751b954-6ea2-456e-816c-68b579788187",
   "metadata": {},
   "outputs": [],
   "source": [
    "methods = [\"const\", \"gamma\", \"uniform\"]\n",
    "objs = [1, 2, 3, 4]\n",
    "seeds = [1, 2, 3]\n"
   ]
  },
  {
   "cell_type": "code",
   "execution_count": 5,
   "id": "86b5f35d-d02e-40e9-86dd-b53929223229",
   "metadata": {},
   "outputs": [],
   "source": [
    "file_path = '/sandbox/qm9_results/logs/gamma/obj_2/seed_1/generated_mols_7.csv'\n",
    "data = pd.read_csv(file_path)"
   ]
  },
  {
   "cell_type": "code",
   "execution_count": 6,
   "id": "f5bdf205-9e97-4f8a-9cad-849e9578415b",
   "metadata": {},
   "outputs": [
    {
     "data": {
      "text/html": [
       "<div>\n",
       "<style scoped>\n",
       "    .dataframe tbody tr th:only-of-type {\n",
       "        vertical-align: middle;\n",
       "    }\n",
       "\n",
       "    .dataframe tbody tr th {\n",
       "        vertical-align: top;\n",
       "    }\n",
       "\n",
       "    .dataframe thead th {\n",
       "        text-align: right;\n",
       "    }\n",
       "</style>\n",
       "<table border=\"1\" class=\"dataframe\">\n",
       "  <thead>\n",
       "    <tr style=\"text-align: right;\">\n",
       "      <th></th>\n",
       "      <th>Unnamed: 0</th>\n",
       "      <th>tensor([1.9287e-22])</th>\n",
       "      <th>[0.0</th>\n",
       "      <th>0.0]</th>\n",
       "      <th>{\"beta\": [0.8801365494728088]</th>\n",
       "      <th>\"preferences\": [0.599624514579773</th>\n",
       "      <th>0.40037545561790466]}</th>\n",
       "    </tr>\n",
       "  </thead>\n",
       "  <tbody>\n",
       "    <tr>\n",
       "      <th>0</th>\n",
       "      <td>NaN</td>\n",
       "      <td>tensor([1.9287e-22])</td>\n",
       "      <td>[0.0</td>\n",
       "      <td>0.0]</td>\n",
       "      <td>{\"beta\": [9.545904159545898]</td>\n",
       "      <td>\"preferences\": [0.8037854433059692</td>\n",
       "      <td>0.19621457159519196]}</td>\n",
       "    </tr>\n",
       "    <tr>\n",
       "      <th>1</th>\n",
       "      <td>NaN</td>\n",
       "      <td>tensor([1.9287e-22])</td>\n",
       "      <td>[0.0</td>\n",
       "      <td>0.0]</td>\n",
       "      <td>{\"beta\": [7.940333843231201]</td>\n",
       "      <td>\"preferences\": [0.4292116165161133</td>\n",
       "      <td>0.5707883834838867]}</td>\n",
       "    </tr>\n",
       "    <tr>\n",
       "      <th>2</th>\n",
       "      <td>NaN</td>\n",
       "      <td>tensor([1.9287e-22])</td>\n",
       "      <td>[0.0</td>\n",
       "      <td>0.0]</td>\n",
       "      <td>{\"beta\": [3.937091827392578]</td>\n",
       "      <td>\"preferences\": [0.8061091899871826</td>\n",
       "      <td>0.1938907951116562]}</td>\n",
       "    </tr>\n",
       "    <tr>\n",
       "      <th>3</th>\n",
       "      <td>NaN</td>\n",
       "      <td>tensor([1.9287e-22])</td>\n",
       "      <td>[0.0</td>\n",
       "      <td>0.0]</td>\n",
       "      <td>{\"beta\": [3.1602556705474854]</td>\n",
       "      <td>\"preferences\": [0.38248389959335327</td>\n",
       "      <td>0.6175161004066467]}</td>\n",
       "    </tr>\n",
       "    <tr>\n",
       "      <th>4</th>\n",
       "      <td>NaN</td>\n",
       "      <td>tensor([1.9287e-22])</td>\n",
       "      <td>[0.0</td>\n",
       "      <td>0.0]</td>\n",
       "      <td>{\"beta\": [2.6494452953338623]</td>\n",
       "      <td>\"preferences\": [0.6233973503112793</td>\n",
       "      <td>0.3766026496887207]}</td>\n",
       "    </tr>\n",
       "  </tbody>\n",
       "</table>\n",
       "</div>"
      ],
      "text/plain": [
       "  Unnamed: 0  tensor([1.9287e-22])  [0.0   0.0]  \\\n",
       "0        NaN  tensor([1.9287e-22])  [0.0   0.0]   \n",
       "1        NaN  tensor([1.9287e-22])  [0.0   0.0]   \n",
       "2        NaN  tensor([1.9287e-22])  [0.0   0.0]   \n",
       "3        NaN  tensor([1.9287e-22])  [0.0   0.0]   \n",
       "4        NaN  tensor([1.9287e-22])  [0.0   0.0]   \n",
       "\n",
       "   {\"beta\": [0.8801365494728088]     \"preferences\": [0.599624514579773  \\\n",
       "0   {\"beta\": [9.545904159545898]    \"preferences\": [0.8037854433059692   \n",
       "1   {\"beta\": [7.940333843231201]    \"preferences\": [0.4292116165161133   \n",
       "2   {\"beta\": [3.937091827392578]    \"preferences\": [0.8061091899871826   \n",
       "3  {\"beta\": [3.1602556705474854]   \"preferences\": [0.38248389959335327   \n",
       "4  {\"beta\": [2.6494452953338623]    \"preferences\": [0.6233973503112793   \n",
       "\n",
       "    0.40037545561790466]}  \n",
       "0   0.19621457159519196]}  \n",
       "1    0.5707883834838867]}  \n",
       "2    0.1938907951116562]}  \n",
       "3    0.6175161004066467]}  \n",
       "4    0.3766026496887207]}  "
      ]
     },
     "execution_count": 6,
     "metadata": {},
     "output_type": "execute_result"
    }
   ],
   "source": [
    "data.head()"
   ]
  },
  {
   "cell_type": "code",
   "execution_count": 7,
   "id": "0f1ce796-31e2-460f-8f3c-873eacadaabc",
   "metadata": {},
   "outputs": [],
   "source": [
    "new_data = pd.DataFrame(columns=[\"SMILES\", \"Rewards\", \"Flattened Rewards\"])"
   ]
  },
  {
   "cell_type": "code",
   "execution_count": 8,
   "id": "64430041-0599-4267-adbb-3f644f106ffb",
   "metadata": {},
   "outputs": [],
   "source": [
    "new_data[\"SMILES\"] = data.iloc[:, 0]"
   ]
  },
  {
   "cell_type": "code",
   "execution_count": 11,
   "id": "164858cd-f937-42d8-9eef-9bf9d231d027",
   "metadata": {},
   "outputs": [],
   "source": [
    "a = new_data[\"SMILES\"]"
   ]
  },
  {
   "cell_type": "code",
   "execution_count": 2,
   "id": "71f0cd44-856c-4b6e-82ab-243d61f4588f",
   "metadata": {},
   "outputs": [
    {
     "name": "stdout",
     "output_type": "stream",
     "text": [
      "Defaulting to user installation because normal site-packages is not writeable\n",
      "Collecting rdkit-pypi\n",
      "  Downloading rdkit_pypi-2022.3.3-cp38-cp38-manylinux_2_17_x86_64.manylinux2014_x86_64.whl (22.9 MB)\n",
      "\u001b[K     |████████████████████████████████| 22.9 MB 1.5 MB/s eta 0:00:01\n",
      "\u001b[?25hRequirement already satisfied: numpy in /opt/conda/lib/python3.8/site-packages (from rdkit-pypi) (1.22.3)\n",
      "Requirement already satisfied: Pillow in /opt/conda/lib/python3.8/site-packages (from rdkit-pypi) (9.0.1)\n",
      "Installing collected packages: rdkit-pypi\n",
      "Successfully installed rdkit-pypi-2022.3.3\n"
     ]
    }
   ],
   "source": [
    "!pip install rdkit-pypi"
   ]
  },
  {
   "cell_type": "code",
   "execution_count": 4,
   "id": "71524119-05d7-4ceb-9125-312b1dc054c6",
   "metadata": {},
   "outputs": [
    {
     "ename": "ImportError",
     "evalue": "libXrender.so.1: cannot open shared object file: No such file or directory",
     "output_type": "error",
     "traceback": [
      "\u001b[0;31m---------------------------------------------------------------------------\u001b[0m",
      "\u001b[0;31mImportError\u001b[0m                               Traceback (most recent call last)",
      "Input \u001b[0;32mIn [4]\u001b[0m, in \u001b[0;36m<cell line: 1>\u001b[0;34m()\u001b[0m\n\u001b[0;32m----> 1\u001b[0m \u001b[38;5;28;01mfrom\u001b[39;00m \u001b[38;5;21;01mrdkit\u001b[39;00m\u001b[38;5;21;01m.\u001b[39;00m\u001b[38;5;21;01mChem\u001b[39;00m \u001b[38;5;28;01mimport\u001b[39;00m Draw\n\u001b[1;32m      3\u001b[0m \u001b[38;5;28;01mfrom\u001b[39;00m \u001b[38;5;21;01mrdkit\u001b[39;00m \u001b[38;5;28;01mimport\u001b[39;00m Chem\n\u001b[1;32m      4\u001b[0m \u001b[38;5;28;01mfrom\u001b[39;00m \u001b[38;5;21;01mrdkit\u001b[39;00m\u001b[38;5;21;01m.\u001b[39;00m\u001b[38;5;21;01mChem\u001b[39;00m\u001b[38;5;21;01m.\u001b[39;00m\u001b[38;5;21;01mDraw\u001b[39;00m \u001b[38;5;28;01mimport\u001b[39;00m IPythonConsole\n",
      "File \u001b[0;32m/run/determined/pythonuserbase/lib/python3.8/site-packages/rdkit/Chem/Draw/__init__.py:14\u001b[0m, in \u001b[0;36m<module>\u001b[0;34m\u001b[0m\n\u001b[1;32m     11\u001b[0m \u001b[38;5;28;01mimport\u001b[39;00m \u001b[38;5;21;01mwarnings\u001b[39;00m\n\u001b[1;32m     12\u001b[0m \u001b[38;5;28;01mfrom\u001b[39;00m \u001b[38;5;21;01mimportlib\u001b[39;00m\u001b[38;5;21;01m.\u001b[39;00m\u001b[38;5;21;01mutil\u001b[39;00m \u001b[38;5;28;01mimport\u001b[39;00m find_spec\n\u001b[0;32m---> 14\u001b[0m \u001b[38;5;28;01mfrom\u001b[39;00m \u001b[38;5;21;01mrdkit\u001b[39;00m\u001b[38;5;21;01m.\u001b[39;00m\u001b[38;5;21;01mChem\u001b[39;00m\u001b[38;5;21;01m.\u001b[39;00m\u001b[38;5;21;01mDraw\u001b[39;00m \u001b[38;5;28;01mimport\u001b[39;00m rdMolDraw2D\n\u001b[1;32m     15\u001b[0m \u001b[38;5;28;01mfrom\u001b[39;00m \u001b[38;5;21;01mrdkit\u001b[39;00m\u001b[38;5;21;01m.\u001b[39;00m\u001b[38;5;21;01mChem\u001b[39;00m\u001b[38;5;21;01m.\u001b[39;00m\u001b[38;5;21;01mDraw\u001b[39;00m\u001b[38;5;21;01m.\u001b[39;00m\u001b[38;5;21;01mMolDrawing\u001b[39;00m \u001b[38;5;28;01mimport\u001b[39;00m MolDrawing, DrawingOptions\n\u001b[1;32m     16\u001b[0m \u001b[38;5;28;01mfrom\u001b[39;00m \u001b[38;5;21;01mrdkit\u001b[39;00m\u001b[38;5;21;01m.\u001b[39;00m\u001b[38;5;21;01mChem\u001b[39;00m\u001b[38;5;21;01m.\u001b[39;00m\u001b[38;5;21;01mDraw\u001b[39;00m\u001b[38;5;21;01m.\u001b[39;00m\u001b[38;5;21;01mrdMolDraw2D\u001b[39;00m \u001b[38;5;28;01mimport\u001b[39;00m \u001b[38;5;241m*\u001b[39m\n",
      "\u001b[0;31mImportError\u001b[0m: libXrender.so.1: cannot open shared object file: No such file or directory"
     ]
    }
   ],
   "source": [
    "from rdkit.Chem import Draw\n",
    "\n",
    "from rdkit import Chem\n",
    "from rdkit.Chem.Draw import IPythonConsole\n",
    "from rdkit.Chem import rdDepictor\n",
    "from rdkit.Chem.Draw import rdMolDraw2D\n",
    "from IPython.display import SVG\n",
    "\n",
    "smiles = a[150207 - 1]\n",
    "m = Chem.MolFromSmiles(smiles)\n",
    "def moltosvg(mol, molSize = (300,300), kekulize = True):\n",
    "    mc = Chem.Mol(mol.ToBinary())\n",
    "    if kekulize:\n",
    "        try:\n",
    "            Chem.Kekulize(mc)\n",
    "        except:\n",
    "            mc = Chem.Mol(mol.ToBinary())\n",
    "    if not mc.GetNumConformers():\n",
    "        rdDepictor.Compute2DCoords(mc)\n",
    "    drawer = rdMolDraw2D.MolDraw2DSVG(molSize[0],molSize[1])\n",
    "    drawer.DrawMolecule(mc)\n",
    "    drawer.FinishDrawing()\n",
    "    svg = drawer.GetDrawingText()\n",
    "    return svg.replace('svg:','')\n",
    "\n",
    "SVG(moltosvg(m))"
   ]
  },
  {
   "cell_type": "code",
   "execution_count": 85,
   "id": "c08d2ce6-f96f-4af2-9614-fe343396b4d2",
   "metadata": {},
   "outputs": [
    {
     "ename": "ValueError",
     "evalue": "could not convert string to float: '[0.0'",
     "output_type": "error",
     "traceback": [
      "\u001b[0;31m---------------------------------------------------------------------------\u001b[0m",
      "\u001b[0;31mValueError\u001b[0m                                Traceback (most recent call last)",
      "Input \u001b[0;32mIn [85]\u001b[0m, in \u001b[0;36m<cell line: 1>\u001b[0;34m()\u001b[0m\n\u001b[0;32m----> 1\u001b[0m a \u001b[38;5;241m=\u001b[39m \u001b[43mnp\u001b[49m\u001b[38;5;241;43m.\u001b[39;49m\u001b[43mconcatenate\u001b[49m\u001b[43m(\u001b[49m\u001b[43ma\u001b[49m\u001b[43m)\u001b[49m\u001b[38;5;241;43m.\u001b[39;49m\u001b[43mastype\u001b[49m\u001b[43m(\u001b[49m\u001b[43mnp\u001b[49m\u001b[38;5;241;43m.\u001b[39;49m\u001b[43mfloat32\u001b[49m\u001b[43m)\u001b[49m\n",
      "\u001b[0;31mValueError\u001b[0m: could not convert string to float: '[0.0'"
     ]
    }
   ],
   "source": [
    "a = np.concatenate(a).astype(np.float32)"
   ]
  },
  {
   "cell_type": "code",
   "execution_count": 82,
   "id": "5e905668-0acd-455d-b335-1274434096c7",
   "metadata": {},
   "outputs": [
    {
     "data": {
      "text/plain": [
       "(300542,)"
      ]
     },
     "execution_count": 82,
     "metadata": {},
     "output_type": "execute_result"
    }
   ],
   "source": []
  },
  {
   "cell_type": "code",
   "execution_count": 93,
   "id": "6ce289b6-f78f-4ae9-afce-f57aba502a47",
   "metadata": {},
   "outputs": [
    {
     "ename": "AttributeError",
     "evalue": "module 'json' has no attribute 'parse'",
     "output_type": "error",
     "traceback": [
      "\u001b[0;31m---------------------------------------------------------------------------\u001b[0m",
      "\u001b[0;31mAttributeError\u001b[0m                            Traceback (most recent call last)",
      "Input \u001b[0;32mIn [93]\u001b[0m, in \u001b[0;36m<cell line: 3>\u001b[0;34m()\u001b[0m\n\u001b[1;32m      4\u001b[0m reader \u001b[38;5;241m=\u001b[39m csv\u001b[38;5;241m.\u001b[39mreader(file)\n\u001b[1;32m      5\u001b[0m \u001b[38;5;28;01mfor\u001b[39;00m row \u001b[38;5;129;01min\u001b[39;00m reader:\n\u001b[0;32m----> 6\u001b[0m     \u001b[38;5;28mprint\u001b[39m(\u001b[43mjson\u001b[49m\u001b[38;5;241;43m.\u001b[39;49m\u001b[43mparse\u001b[49m(row[\u001b[38;5;241m2\u001b[39m]))\n",
      "\u001b[0;31mAttributeError\u001b[0m: module 'json' has no attribute 'parse'"
     ]
    }
   ],
   "source": []
  },
  {
   "cell_type": "code",
   "execution_count": 108,
   "id": "7fc4a37f-b743-42f9-8862-49abf82d1fc0",
   "metadata": {},
   "outputs": [
    {
     "name": "stdout",
     "output_type": "stream",
     "text": [
      "23231\n"
     ]
    }
   ],
   "source": [
    "import determined as det\n",
    "auth = det.common.api.authentication.Authentication('dam01', 'sharath.raparthy', \n",
    "                                                    '1234', # You'll have to set that or just put the string here\n",
    "                                                    True)\n",
    "r = det.common.api.get('dam01', 'trials/176170', auth=auth).json()\n",
    "# example:\n",
    "print(r[\"experiment_id\"])"
   ]
  },
  {
   "cell_type": "code",
   "execution_count": null,
   "id": "f1ae2c14-33a8-40f2-8bb4-31d99c8f57f1",
   "metadata": {},
   "outputs": [],
   "source": []
  }
 ],
 "metadata": {
  "kernelspec": {
   "display_name": "Python 3 (ipykernel)",
   "language": "python",
   "name": "python3"
  },
  "language_info": {
   "codemirror_mode": {
    "name": "ipython",
    "version": 3
   },
   "file_extension": ".py",
   "mimetype": "text/x-python",
   "name": "python",
   "nbconvert_exporter": "python",
   "pygments_lexer": "ipython3",
   "version": "3.8.12"
  }
 },
 "nbformat": 4,
 "nbformat_minor": 5
}
