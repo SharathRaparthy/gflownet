{
 "cells": [
  {
   "cell_type": "code",
   "execution_count": 127,
   "id": "54d47467-4ab6-4f1e-a567-d82fd07f4b01",
   "metadata": {},
   "outputs": [],
   "source": [
    "import pandas as pd\n",
    "import tarfile\n",
    "\n",
    "import numpy as np\n",
    "import pandas as pd\n",
    "import rdkit.Chem as Chem\n",
    "from torch.utils.data import Dataset\n",
    "from rdkit.Chem import Descriptors"
   ]
  },
  {
   "cell_type": "code",
   "execution_count": 128,
   "id": "2a3f7c55-e32f-4a76-803f-2b5aa6c10765",
   "metadata": {},
   "outputs": [],
   "source": [
    "class QM9Dataset(Dataset):\n",
    "    def __init__(self, h5_file=None, xyz_file=None, train=True, targets='gap', split_seed=142857, ratio=0.9):\n",
    "        if h5_file is not None:\n",
    "            self.df = pd.HDFStore(h5_file, 'r')['df']\n",
    "        elif xyz_file is not None:\n",
    "            self.load_tar()\n",
    "        rng = np.random.default_rng(split_seed)\n",
    "        idcs = np.arange(len(self.df))  # TODO: error if there is no h5_file provided. Should h5 be required\n",
    "        rng.shuffle(idcs)\n",
    "        self.targets = targets\n",
    "        if train:\n",
    "            self.idcs = idcs[:int(np.floor(ratio * len(self.df)))]\n",
    "        else:\n",
    "            self.idcs = idcs[int(np.floor(ratio * len(self.df))):]\n",
    "        self.targets = ['gap', 'logP']\n",
    "        self.length = len(self.df[\"SMILES\"])\n",
    "        self.calculate_logP()\n",
    "        # self.calculate_QED()\n",
    "        # self.calculate_molwt()\n",
    "\n",
    "    def gather_rewards(self, idx):\n",
    "        rewards = []\n",
    "        for target in self.targets:\n",
    "            rewards.append(self.df[target][idx])\n",
    "        return np.asarray(rewards)\n",
    "\n",
    "    def get_stats(self, target, percentile=0.95):\n",
    "        # Return a list of stats\n",
    "        y = self.df[target]\n",
    "        return y.min(), y.max(), np.sort(y)[int(y.shape[0] * percentile)]\n",
    "\n",
    "    def calculate_logP(self):\n",
    "        logP = []\n",
    "        for idx in range(self.length):\n",
    "            molecule = self.df['SMILES'][idx]\n",
    "            molecule = Chem.MolFromSmiles(molecule)\n",
    "            logP.append(Descriptors.MolLogP(molecule))\n",
    "        self.df[\"logP\"] = logP\n",
    "\n",
    "    def calculate_QED(self):\n",
    "        QED = []\n",
    "        for idx in range(self.length):\n",
    "            molecule = self.df['SMILES'][idx]\n",
    "            molecule = Chem.MolFromSmiles(molecule)\n",
    "            QED.append(Descriptors.qed(molecule))\n",
    "        self.df[\"QED\"] = QED\n",
    "\n",
    "    def calculate_molwt(self):\n",
    "        mol_weight = []\n",
    "        for idx in range(self.length):\n",
    "            molecule = self.df['SMILES'][idx]\n",
    "            molecule = Chem.MolFromSmiles(molecule)\n",
    "            mol_weight.append(Descriptors.MolWt(molecule))\n",
    "        self.df[\"molecular_weight\"] = mol_weight\n",
    "\n",
    "    def load_tar(self, xyz_file):\n",
    "        f = tarfile.TarFile(xyz_file, 'r')\n",
    "        labels = ['rA', 'rB', 'rC', 'mu', 'alpha', 'homo', 'lumo', 'gap', 'r2', 'zpve', 'U0', 'U', 'H', 'G', 'Cv']\n",
    "        all_mols = []\n",
    "        for pt in f:\n",
    "            pt = f.extractfile(pt)\n",
    "            data = pt.read().decode().splitlines()\n",
    "            all_mols.append(data[-2].split()[:1] + list(map(float, data[1].split()[2:])))\n",
    "        self.df = pd.DataFrame(all_mols, columns=['SMILES'] + labels)\n",
    "\n",
    "    def __len__(self):\n",
    "        return len(self.idcs)\n",
    "\n",
    "    def __getitem__(self, idx):\n",
    "        rewards = self.gather_rewards(idx)\n",
    "        return (Chem.MolFromSmiles(self.df['SMILES'][self.idcs[idx]]), rewards)\n"
   ]
  },
  {
   "cell_type": "code",
   "execution_count": 129,
   "id": "b52b358e-aa1f-4152-b00f-3ef5a7eeb36a",
   "metadata": {},
   "outputs": [],
   "source": [
    "h5_file = '/data/chem/qm9/qm9.h5'\n",
    "dataset = QM9Dataset(h5_file, train=True)"
   ]
  },
  {
   "cell_type": "code",
   "execution_count": 130,
   "id": "0dd66e4a-a1b3-46f5-abf6-25e96e9946a1",
   "metadata": {},
   "outputs": [],
   "source": [
    "mols, flat_rewards = map(list, zip(*[dataset[i] for i in range(32)]))"
   ]
  },
  {
   "cell_type": "code",
   "execution_count": 131,
   "id": "063d570b-18bf-4934-8a1b-954ef6311345",
   "metadata": {},
   "outputs": [],
   "source": [
    "a = torch.FloatTensor(np.vstack(flat_rewards))\n",
    "m = torch.distributions.dirichlet.Dirichlet(torch.FloatTensor([1.5] * 2))\n",
    "b = m.sample([32])"
   ]
  },
  {
   "cell_type": "code",
   "execution_count": 118,
   "id": "735ca4ff-be69-46c3-b1dd-6e99f7362932",
   "metadata": {},
   "outputs": [
    {
     "ename": "RuntimeError",
     "evalue": "Expected 3-dimensional tensor, but got 2-dimensional tensor for argument #1 'batch1' (while checking arguments for bmm)",
     "output_type": "error",
     "traceback": [
      "\u001b[0;31m---------------------------------------------------------------------------\u001b[0m",
      "\u001b[0;31mRuntimeError\u001b[0m                              Traceback (most recent call last)",
      "Input \u001b[0;32mIn [119]\u001b[0m, in \u001b[0;36m<cell line: 1>\u001b[0;34m()\u001b[0m\n\u001b[0;32m----> 1\u001b[0m c \u001b[38;5;241m=\u001b[39m \u001b[43mtorch\u001b[49m\u001b[38;5;241;43m.\u001b[39;49m\u001b[43mbmm\u001b[49m\u001b[43m(\u001b[49m\u001b[43ma\u001b[49m\u001b[43m,\u001b[49m\u001b[43m \u001b[49m\u001b[43mb\u001b[49m\u001b[43m)\u001b[49m\n\u001b[1;32m      2\u001b[0m \u001b[38;5;28mprint\u001b[39m(c\u001b[38;5;241m.\u001b[39msqueeze(\u001b[38;5;241m1\u001b[39m))\n",
      "\u001b[0;31mRuntimeError\u001b[0m: Expected 3-dimensional tensor, but got 2-dimensional tensor for argument #1 'batch1' (while checking arguments for bmm)"
     ]
    }
   ],
   "source": [
    "\n",
    "c = torch.bmm(a, b.unsqueeze(1).permute(0, 2, 1))\n",
    "print(c.squeeze(1))\n",
    "# c_1 = torch.dot(a[0], b[0])\n"
   ]
  },
  {
   "cell_type": "code",
   "execution_count": 79,
   "id": "9de31294-2790-4313-9639-dcb4fdbbd6c8",
   "metadata": {},
   "outputs": [
    {
     "data": {
      "text/html": [
       "<div>\n",
       "<style scoped>\n",
       "    .dataframe tbody tr th:only-of-type {\n",
       "        vertical-align: middle;\n",
       "    }\n",
       "\n",
       "    .dataframe tbody tr th {\n",
       "        vertical-align: top;\n",
       "    }\n",
       "\n",
       "    .dataframe thead th {\n",
       "        text-align: right;\n",
       "    }\n",
       "</style>\n",
       "<table border=\"1\" class=\"dataframe\">\n",
       "  <thead>\n",
       "    <tr style=\"text-align: right;\">\n",
       "      <th></th>\n",
       "      <th>SMILES</th>\n",
       "      <th>rA</th>\n",
       "      <th>rB</th>\n",
       "      <th>rC</th>\n",
       "      <th>mu</th>\n",
       "      <th>alpha</th>\n",
       "      <th>homo</th>\n",
       "      <th>lumo</th>\n",
       "      <th>gap</th>\n",
       "      <th>r2</th>\n",
       "      <th>zpve</th>\n",
       "      <th>U0</th>\n",
       "      <th>U</th>\n",
       "      <th>H</th>\n",
       "      <th>G</th>\n",
       "      <th>Cv</th>\n",
       "    </tr>\n",
       "  </thead>\n",
       "  <tbody>\n",
       "    <tr>\n",
       "      <th>0</th>\n",
       "      <td>C</td>\n",
       "      <td>157.71180</td>\n",
       "      <td>157.709970</td>\n",
       "      <td>157.706990</td>\n",
       "      <td>0.0000</td>\n",
       "      <td>13.21</td>\n",
       "      <td>-0.3877</td>\n",
       "      <td>0.1171</td>\n",
       "      <td>0.5048</td>\n",
       "      <td>35.3641</td>\n",
       "      <td>0.044749</td>\n",
       "      <td>-40.478930</td>\n",
       "      <td>-40.476062</td>\n",
       "      <td>-40.475117</td>\n",
       "      <td>-40.498597</td>\n",
       "      <td>6.469</td>\n",
       "    </tr>\n",
       "    <tr>\n",
       "      <th>1</th>\n",
       "      <td>N</td>\n",
       "      <td>293.60975</td>\n",
       "      <td>293.541110</td>\n",
       "      <td>191.393970</td>\n",
       "      <td>1.6256</td>\n",
       "      <td>9.46</td>\n",
       "      <td>-0.2570</td>\n",
       "      <td>0.0829</td>\n",
       "      <td>0.3399</td>\n",
       "      <td>26.1563</td>\n",
       "      <td>0.034358</td>\n",
       "      <td>-56.525887</td>\n",
       "      <td>-56.523026</td>\n",
       "      <td>-56.522082</td>\n",
       "      <td>-56.544961</td>\n",
       "      <td>6.316</td>\n",
       "    </tr>\n",
       "    <tr>\n",
       "      <th>2</th>\n",
       "      <td>O</td>\n",
       "      <td>799.58812</td>\n",
       "      <td>437.903860</td>\n",
       "      <td>282.945450</td>\n",
       "      <td>1.8511</td>\n",
       "      <td>6.31</td>\n",
       "      <td>-0.2928</td>\n",
       "      <td>0.0687</td>\n",
       "      <td>0.3615</td>\n",
       "      <td>19.0002</td>\n",
       "      <td>0.021375</td>\n",
       "      <td>-76.404702</td>\n",
       "      <td>-76.401867</td>\n",
       "      <td>-76.400922</td>\n",
       "      <td>-76.422349</td>\n",
       "      <td>6.002</td>\n",
       "    </tr>\n",
       "    <tr>\n",
       "      <th>3</th>\n",
       "      <td>C#C</td>\n",
       "      <td>0.00000</td>\n",
       "      <td>35.610036</td>\n",
       "      <td>35.610036</td>\n",
       "      <td>0.0000</td>\n",
       "      <td>16.28</td>\n",
       "      <td>-0.2845</td>\n",
       "      <td>0.0506</td>\n",
       "      <td>0.3351</td>\n",
       "      <td>59.5248</td>\n",
       "      <td>0.026841</td>\n",
       "      <td>-77.308427</td>\n",
       "      <td>-77.305527</td>\n",
       "      <td>-77.304583</td>\n",
       "      <td>-77.327429</td>\n",
       "      <td>8.574</td>\n",
       "    </tr>\n",
       "    <tr>\n",
       "      <th>4</th>\n",
       "      <td>C#N</td>\n",
       "      <td>0.00000</td>\n",
       "      <td>44.593883</td>\n",
       "      <td>44.593883</td>\n",
       "      <td>2.8937</td>\n",
       "      <td>12.99</td>\n",
       "      <td>-0.3604</td>\n",
       "      <td>0.0191</td>\n",
       "      <td>0.3796</td>\n",
       "      <td>48.7476</td>\n",
       "      <td>0.016601</td>\n",
       "      <td>-93.411888</td>\n",
       "      <td>-93.409370</td>\n",
       "      <td>-93.408425</td>\n",
       "      <td>-93.431246</td>\n",
       "      <td>6.278</td>\n",
       "    </tr>\n",
       "  </tbody>\n",
       "</table>\n",
       "</div>"
      ],
      "text/plain": [
       "  SMILES         rA          rB          rC      mu  alpha    homo    lumo  \\\n",
       "0      C  157.71180  157.709970  157.706990  0.0000  13.21 -0.3877  0.1171   \n",
       "1      N  293.60975  293.541110  191.393970  1.6256   9.46 -0.2570  0.0829   \n",
       "2      O  799.58812  437.903860  282.945450  1.8511   6.31 -0.2928  0.0687   \n",
       "3    C#C    0.00000   35.610036   35.610036  0.0000  16.28 -0.2845  0.0506   \n",
       "4    C#N    0.00000   44.593883   44.593883  2.8937  12.99 -0.3604  0.0191   \n",
       "\n",
       "      gap       r2      zpve         U0          U          H          G  \\\n",
       "0  0.5048  35.3641  0.044749 -40.478930 -40.476062 -40.475117 -40.498597   \n",
       "1  0.3399  26.1563  0.034358 -56.525887 -56.523026 -56.522082 -56.544961   \n",
       "2  0.3615  19.0002  0.021375 -76.404702 -76.401867 -76.400922 -76.422349   \n",
       "3  0.3351  59.5248  0.026841 -77.308427 -77.305527 -77.304583 -77.327429   \n",
       "4  0.3796  48.7476  0.016601 -93.411888 -93.409370 -93.408425 -93.431246   \n",
       "\n",
       "      Cv  \n",
       "0  6.469  \n",
       "1  6.316  \n",
       "2  6.002  \n",
       "3  8.574  \n",
       "4  6.278  "
      ]
     },
     "execution_count": 79,
     "metadata": {},
     "output_type": "execute_result"
    }
   ],
   "source": [
    "df = pd.HDFStore(h5_file, 'r')['df']\n",
    "df.head()"
   ]
  },
  {
   "cell_type": "code",
   "execution_count": 80,
   "id": "e24b1b65-9c14-4084-b7dd-1cfbe19bd037",
   "metadata": {},
   "outputs": [],
   "source": [
    "import matplotlib.pyplot as plt\n",
    "molecules = df[\"SMILES\"]\n",
    "len(molecules)\n",
    "logp = []\n",
    "for m in molecules:\n",
    "    mol = Chem.MolFromSmiles(m)\n",
    "    logp.append(Descriptors.MolLogP(mol))\n"
   ]
  },
  {
   "cell_type": "code",
   "execution_count": 81,
   "id": "8e4d318c-be49-4190-b7fa-da44747f69ad",
   "metadata": {},
   "outputs": [
    {
     "name": "stdout",
     "output_type": "stream",
     "text": [
      "133885\n"
     ]
    }
   ],
   "source": [
    "print(len(molecules))"
   ]
  },
  {
   "cell_type": "code",
   "execution_count": 64,
   "id": "01ad2355-598a-420e-a37e-71801418331f",
   "metadata": {},
   "outputs": [
    {
     "data": {
      "text/plain": [
       "(array([   92.,   661.,  2190.,  5962., 12554., 27601., 43471., 30576.,\n",
       "         9428.,  1350.]),\n",
       " array([0.12269723, 0.17730723, 0.23191723, 0.28652722, 0.34113722,\n",
       "        0.39574722, 0.45035722, 0.50496722, 0.55957721, 0.61418721,\n",
       "        0.66879721]),\n",
       " <BarContainer object of 10 artists>)"
      ]
     },
     "execution_count": 64,
     "metadata": {},
     "output_type": "execute_result"
    },
    {
     "data": {
      "image/png": "[encoded data removed]",
      "text/plain": [
       "<Figure size 432x288 with 1 Axes>"
      ]
     },
     "metadata": {
      "needs_background": "light"
     },
     "output_type": "display_data"
    }
   ],
   "source": [
    "plt.hist(logp\n",
    "        )"
   ]
  },
  {
   "cell_type": "code",
   "execution_count": 65,
   "id": "f9a9d57d-aba6-477c-8332-c8c61ec61245",
   "metadata": {},
   "outputs": [],
   "source": [
    "import torch"
   ]
  },
  {
   "cell_type": "code",
   "execution_count": 66,
   "id": "7491c159-0a48-4494-ae86-155fe68abacd",
   "metadata": {},
   "outputs": [],
   "source": [
    "a = torch.FloatTensor([1, 2, 3]).dot(torch.tensor([1, 2, 3]))"
   ]
  },
  {
   "cell_type": "code",
   "execution_count": 67,
   "id": "55f007aa-e48f-4f7e-abe1-e03348ec096f",
   "metadata": {},
   "outputs": [
    {
     "data": {
      "text/plain": [
       "tensor(14)"
      ]
     },
     "execution_count": 67,
     "metadata": {},
     "output_type": "execute_result"
    }
   ],
   "source": [
    "a"
   ]
  },
  {
   "cell_type": "code",
   "execution_count": 134,
   "id": "2054780d-e86e-4802-8eaf-c63149549789",
   "metadata": {},
   "outputs": [],
   "source": [
    "m = torch.distributions.dirichlet.Dirichlet(torch.tensor([1.5] * 1))\n",
    "preferences = m.sample([32])"
   ]
  },
  {
   "cell_type": "code",
   "execution_count": 136,
   "id": "97bbc04e-15f5-46eb-8659-10ca8447d014",
   "metadata": {},
   "outputs": [
    {
     "name": "stdout",
     "output_type": "stream",
     "text": [
      "torch.Size([32, 1])\n"
     ]
    }
   ],
   "source": [
    "print(preferences.shape)"
   ]
  },
  {
   "cell_type": "code",
   "execution_count": 73,
   "id": "19e42ef8-30c0-4818-a4c9-3b7b67494735",
   "metadata": {},
   "outputs": [
    {
     "data": {
      "text/plain": [
       "tensor(2.2494)"
      ]
     },
     "execution_count": 73,
     "metadata": {},
     "output_type": "execute_result"
    }
   ],
   "source": [
    "a"
   ]
  },
  {
   "cell_type": "code",
   "execution_count": 120,
   "id": "4d87d01f-eb02-4b07-b243-abc5a520385f",
   "metadata": {},
   "outputs": [],
   "source": [
    "import numpy as np"
   ]
  },
  {
   "cell_type": "code",
   "execution_count": 122,
   "id": "ab37304f-52d6-455d-b60b-5e5f121f0f1b",
   "metadata": {},
   "outputs": [],
   "source": [
    "a = [[1.0, 2.0], [3.12, 1.0009]]\n",
    "a = np.asarray(a)"
   ]
  },
  {
   "cell_type": "code",
   "execution_count": 125,
   "id": "57db7f9c-642a-4af5-8fee-c562effaacb8",
   "metadata": {},
   "outputs": [],
   "source": [
    "a[np.isnan(a)] = 1"
   ]
  },
  {
   "cell_type": "code",
   "execution_count": 126,
   "id": "c51347ae-0d57-4711-818d-547b3818a3c8",
   "metadata": {},
   "outputs": [
    {
     "data": {
      "text/plain": [
       "array([[1.    , 2.    ],\n",
       "       [3.12  , 1.0009]])"
      ]
     },
     "execution_count": 126,
     "metadata": {},
     "output_type": "execute_result"
    }
   ],
   "source": [
    "a"
   ]
  },
  {
   "cell_type": "code",
   "execution_count": 138,
   "id": "f484e5da-5c50-4dd2-80a2-29f19f233a33",
   "metadata": {},
   "outputs": [
    {
     "data": {
      "text/plain": [
       "torch.Size([128, 1])"
      ]
     },
     "execution_count": 138,
     "metadata": {},
     "output_type": "execute_result"
    }
   ],
   "source": [
    "a = torch.ones((128, 1))\n",
    "beta = torch.ones((128, 1))\n",
    "c = a ** beta\n",
    "c.shape"
   ]
  },
  {
   "cell_type": "code",
   "execution_count": 139,
   "id": "fdc95969-72a8-49f9-bd91-4db8deb331b4",
   "metadata": {},
   "outputs": [],
   "source": [
    "import pandas as pd\n",
    "from matplotlib import pyplot as plt\n",
    "import seaborn as sns\n",
    "from scipy import stats\n",
    "import tensorboard as tb"
   ]
  },
  {
   "cell_type": "code",
   "execution_count": 141,
   "id": "749adc27-b932-4972-9d04-aa80920a19a3",
   "metadata": {},
   "outputs": [
    {
     "name": "stdout",
     "output_type": "stream",
     "text": [
      "TensorBoard version:  2.8.0\n"
     ]
    }
   ],
   "source": [
    "from packaging import version\n",
    "\n",
    "major_ver, minor_ver, _ = version.parse(tb.__version__).release\n",
    "assert major_ver >= 2 and minor_ver >= 3, \\\n",
    "    \"This notebook requires TensorBoard 2.3 or later.\"\n",
    "print(\"TensorBoard version: \", tb.__version__)"
   ]
  },
  {
   "cell_type": "code",
   "execution_count": 150,
   "id": "e107efc1-be19-4a52-af97-746cc6670f51",
   "metadata": {},
   "outputs": [
    {
     "ename": "_MultiThreadedRendezvous",
     "evalue": "<_MultiThreadedRendezvous of RPC that terminated with:\n\tstatus = StatusCode.INTERNAL\n\tdetails = \"Internal error. Please report this and specify reference code 1a466559-d728-4682-8c96-567b213834eb.\"\n\tdebug_error_string = \"{\"created\":\"@1654462610.824165834\",\"description\":\"Error received from peer ipv4:34.95.66.171:443\",\"file\":\"src/core/lib/surface/call.cc\",\"file_line\":903,\"grpc_message\":\"Internal error. Please report this and specify reference code 1a466559-d728-4682-8c96-567b213834eb.\",\"grpc_status\":13}\"\n>",
     "output_type": "error",
     "traceback": [
      "\u001b[0;31m---------------------------------------------------------------------------\u001b[0m",
      "\u001b[0;31m_MultiThreadedRendezvous\u001b[0m                  Traceback (most recent call last)",
      "Input \u001b[0;32mIn [150]\u001b[0m, in \u001b[0;36m<cell line: 3>\u001b[0;34m()\u001b[0m\n\u001b[1;32m      1\u001b[0m experiment_id \u001b[38;5;241m=\u001b[39m \u001b[38;5;124m\"\u001b[39m\u001b[38;5;124m[22101]\u001b[39m\u001b[38;5;124m\"\u001b[39m\n\u001b[1;32m      2\u001b[0m experiment \u001b[38;5;241m=\u001b[39m tb\u001b[38;5;241m.\u001b[39mdata\u001b[38;5;241m.\u001b[39mexperimental\u001b[38;5;241m.\u001b[39mExperimentFromDev(experiment_id)\n\u001b[0;32m----> 3\u001b[0m df \u001b[38;5;241m=\u001b[39m \u001b[43mexperiment\u001b[49m\u001b[38;5;241;43m.\u001b[39;49m\u001b[43mget_scalars\u001b[49m\u001b[43m(\u001b[49m\u001b[43m)\u001b[49m\n",
      "File \u001b[0;32m/opt/conda/lib/python3.8/site-packages/tensorboard/data/experimental/experiment_from_dev.py:102\u001b[0m, in \u001b[0;36mExperimentFromDev.get_scalars\u001b[0;34m(self, runs_filter, tags_filter, pivot, include_wall_time)\u001b[0m\n\u001b[1;32m    100\u001b[0m wall_times \u001b[38;5;241m=\u001b[39m []\n\u001b[1;32m    101\u001b[0m values \u001b[38;5;241m=\u001b[39m []\n\u001b[0;32m--> 102\u001b[0m \u001b[38;5;28;01mfor\u001b[39;00m response \u001b[38;5;129;01min\u001b[39;00m stream:\n\u001b[1;32m    103\u001b[0m     \u001b[38;5;66;03m# TODO(cais, wchargin): Display progress bar during data loading.\u001b[39;00m\n\u001b[1;32m    104\u001b[0m     num_values \u001b[38;5;241m=\u001b[39m \u001b[38;5;28mlen\u001b[39m(response\u001b[38;5;241m.\u001b[39mpoints\u001b[38;5;241m.\u001b[39mvalues)\n\u001b[1;32m    105\u001b[0m     runs\u001b[38;5;241m.\u001b[39mextend([response\u001b[38;5;241m.\u001b[39mrun_name] \u001b[38;5;241m*\u001b[39m num_values)\n",
      "File \u001b[0;32m/opt/conda/lib/python3.8/site-packages/grpc/_channel.py:426\u001b[0m, in \u001b[0;36m_Rendezvous.__next__\u001b[0;34m(self)\u001b[0m\n\u001b[1;32m    425\u001b[0m \u001b[38;5;28;01mdef\u001b[39;00m \u001b[38;5;21m__next__\u001b[39m(\u001b[38;5;28mself\u001b[39m):\n\u001b[0;32m--> 426\u001b[0m     \u001b[38;5;28;01mreturn\u001b[39;00m \u001b[38;5;28;43mself\u001b[39;49m\u001b[38;5;241;43m.\u001b[39;49m\u001b[43m_next\u001b[49m\u001b[43m(\u001b[49m\u001b[43m)\u001b[49m\n",
      "File \u001b[0;32m/opt/conda/lib/python3.8/site-packages/grpc/_channel.py:826\u001b[0m, in \u001b[0;36m_MultiThreadedRendezvous._next\u001b[0;34m(self)\u001b[0m\n\u001b[1;32m    824\u001b[0m     \u001b[38;5;28;01mraise\u001b[39;00m \u001b[38;5;167;01mStopIteration\u001b[39;00m()\n\u001b[1;32m    825\u001b[0m \u001b[38;5;28;01melif\u001b[39;00m \u001b[38;5;28mself\u001b[39m\u001b[38;5;241m.\u001b[39m_state\u001b[38;5;241m.\u001b[39mcode \u001b[38;5;129;01mis\u001b[39;00m \u001b[38;5;129;01mnot\u001b[39;00m \u001b[38;5;28;01mNone\u001b[39;00m:\n\u001b[0;32m--> 826\u001b[0m     \u001b[38;5;28;01mraise\u001b[39;00m \u001b[38;5;28mself\u001b[39m\n",
      "\u001b[0;31m_MultiThreadedRendezvous\u001b[0m: <_MultiThreadedRendezvous of RPC that terminated with:\n\tstatus = StatusCode.INTERNAL\n\tdetails = \"Internal error. Please report this and specify reference code 1a466559-d728-4682-8c96-567b213834eb.\"\n\tdebug_error_string = \"{\"created\":\"@1654462610.824165834\",\"description\":\"Error received from peer ipv4:34.95.66.171:443\",\"file\":\"src/core/lib/surface/call.cc\",\"file_line\":903,\"grpc_message\":\"Internal error. Please report this and specify reference code 1a466559-d728-4682-8c96-567b213834eb.\",\"grpc_status\":13}\"\n>"
     ]
    }
   ],
   "source": [
    "experiment_id = \"[22101]\"\n",
    "experiment = tb.data.experimental.ExperimentFromDev(experiment_id)\n",
    "df = experiment.get_scalars()"
   ]
  },
  {
   "cell_type": "code",
   "execution_count": null,
   "id": "ea123101-7c7c-416a-b9e0-1d78208c505b",
   "metadata": {},
   "outputs": [],
   "source": []
  }
 ],
 "metadata": {
  "kernelspec": {
   "display_name": "Python 3 (ipykernel)",
   "language": "python",
   "name": "python3"
  },
  "language_info": {
   "codemirror_mode": {
    "name": "ipython",
    "version": 3
   },
   "file_extension": ".py",
   "mimetype": "text/x-python",
   "name": "python",
   "nbconvert_exporter": "python",
   "pygments_lexer": "ipython3",
   "version": "3.8.12"
  }
 },
 "nbformat": 4,
 "nbformat_minor": 5
}
